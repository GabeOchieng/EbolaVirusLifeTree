{
 "cells": [
  {
   "cell_type": "markdown",
   "metadata": {},
   "source": [
    "<div style=\"direction:rtl;line-height:300%; color=\"green\">\n",
    "بخش ۲.۲: استخراج ژن ها\n",
    "</div>"
   ]
  },
  {
   "cell_type": "markdown",
   "metadata": {},
   "source": [
    "<div style=\"direction:rtl;line-height:300%;\">\n",
    "در این بخش ابتدا ژنهای ماربرگ و همچنین ژنوم هر ۵ نوع ویروس را از فایل های مربوطه خواندم: \n",
    "</div>"
   ]
  },
  {
   "cell_type": "code",
   "execution_count": 2,
   "metadata": {},
   "outputs": [
    {
     "ename": "NameError",
     "evalue": "name 'SeqIO' is not defined",
     "output_type": "error",
     "traceback": [
      "\u001b[0;31m---------------------------------------------------------------------------\u001b[0m",
      "\u001b[0;31mNameError\u001b[0m                                 Traceback (most recent call last)",
      "\u001b[0;32m<ipython-input-2-9cb7b6b98001>\u001b[0m in \u001b[0;36m<module>\u001b[0;34m()\u001b[0m\n\u001b[1;32m      1\u001b[0m \u001b[0;31m#       reading Marburg genes into a list : Marburg_genes\u001b[0m\u001b[0;34m\u001b[0m\u001b[0;34m\u001b[0m\u001b[0m\n\u001b[0;32m----> 2\u001b[0;31m \u001b[0;32mfor\u001b[0m \u001b[0mrecord\u001b[0m \u001b[0;32min\u001b[0m \u001b[0mSeqIO\u001b[0m\u001b[0;34m.\u001b[0m\u001b[0mparse\u001b[0m\u001b[0;34m(\u001b[0m\u001b[0;34m\"fastaData/Marburg_Genes.fasta\"\u001b[0m\u001b[0;34m,\u001b[0m \u001b[0;34m\"fasta\"\u001b[0m\u001b[0;34m)\u001b[0m\u001b[0;34m:\u001b[0m\u001b[0;34m\u001b[0m\u001b[0m\n\u001b[0m\u001b[1;32m      3\u001b[0m     \u001b[0mMarburg_Genes\u001b[0m\u001b[0;34m.\u001b[0m\u001b[0mappend\u001b[0m\u001b[0;34m(\u001b[0m\u001b[0mstr\u001b[0m\u001b[0;34m(\u001b[0m\u001b[0mrecord\u001b[0m\u001b[0;34m.\u001b[0m\u001b[0mseq\u001b[0m\u001b[0;34m)\u001b[0m\u001b[0;34m)\u001b[0m\u001b[0;34m\u001b[0m\u001b[0m\n\u001b[1;32m      4\u001b[0m \u001b[0;34m\u001b[0m\u001b[0m\n\u001b[1;32m      5\u001b[0m \u001b[0;31m#       reading Zaire genome data from the fasta files\u001b[0m\u001b[0;34m\u001b[0m\u001b[0;34m\u001b[0m\u001b[0m\n",
      "\u001b[0;31mNameError\u001b[0m: name 'SeqIO' is not defined"
     ]
    }
   ],
   "source": [
    "#       reading Marburg genes into a list : Marburg_genes\n",
    "for record in SeqIO.parse(\"fastaData/Marburg_Genes.fasta\", \"fasta\"):\n",
    "    Marburg_Genes.append(str(record.seq))\n",
    "\n",
    "#       reading Zaire genome data from the fasta files\n",
    "for record in SeqIO.parse(\"fastaData/Zaire_genome.fasta\", \"fasta\"):\n",
    "    Zaire_genome = str(record.seq)\n",
    "\n",
    "#       reading Sudan genome data from the fasta files\n",
    "for record in SeqIO.parse(\"fastaData/Sudan_genome.fasta\", \"fasta\"):\n",
    "    Sudan_genome = str(record.seq)\n",
    "\n",
    "#       reading Reston genome data from the fasta files\n",
    "for record in SeqIO.parse(\"fastaData/Reston_genome.fasta\", \"fasta\"):\n",
    "    Reston_genome = str(record.seq)\n",
    "\n",
    "#       reading TaiForest genome data from the fasta files\n",
    "for record in SeqIO.parse(\"fastaData/TaiForest_genome.fasta\", \"fasta\"):\n",
    "    TaiForest_genome = str(record.seq)\n",
    "\n",
    "#       reading Bundibugyo genome data from the fasta files\n",
    "for record in SeqIO.parse(\"fastaData/Bundibugyo_genome.fasta\", \"fasta\"):\n",
    "    Bundibugyo_genome = str(record.seq)"
   ]
  },
  {
   "cell_type": "code",
   "execution_count": null,
   "metadata": {},
   "outputs": [],
   "source": []
  }
 ],
 "metadata": {
  "kernelspec": {
   "display_name": "Python 3",
   "language": "python",
   "name": "python3"
  },
  "language_info": {
   "codemirror_mode": {
    "name": "ipython",
    "version": 3
   },
   "file_extension": ".py",
   "mimetype": "text/x-python",
   "name": "python",
   "nbconvert_exporter": "python",
   "pygments_lexer": "ipython3",
   "version": "3.5.2"
  }
 },
 "nbformat": 4,
 "nbformat_minor": 1
}
