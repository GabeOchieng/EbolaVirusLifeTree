{
 "cells": [
  {
   "cell_type": "markdown",
   "metadata": {},
   "source": [
    "<h1 style=\"direction:rtl;line-height:300%; color:green; font-size:200%\">\n",
    "بخش ۲.۲: استخراج ژن ها\n",
    "</h1>"
   ]
  },
  {
   "cell_type": "markdown",
   "metadata": {},
   "source": [
    "<div style=\"direction:rtl;line-height:300%;\">\n",
    "در این بخش ابتدا ژنهای ماربرگ و همچنین ژنوم هر ۵ نوع ویروس را از فایل های مربوطه خواندم: \n",
    "</div>"
   ]
  },
  {
   "cell_type": "code",
   "execution_count": null,
   "metadata": {},
   "outputs": [],
   "source": [
    "from Bio import pairwise2, SeqIO\n",
    "\n",
    "Marburg_Genes = []\n",
    "i = 0\n",
    "\n",
    "#       reading Marburg genes into a list : Marburg_genes\n",
    "for record in SeqIO.parse(\"fastaData/Marburg_Genes.fasta\", \"fasta\"):\n",
    "    Marburg_Genes.append(str(record.seq))\n",
    "\n",
    "#       reading Zaire genome data from the fasta files\n",
    "for record in SeqIO.parse(\"fastaData/Zaire_genome.fasta\", \"fasta\"):\n",
    "    Zaire_genome = str(record.seq)\n",
    "\n",
    "#       reading Sudan genome data from the fasta files\n",
    "for record in SeqIO.parse(\"fastaData/Sudan_genome.fasta\", \"fasta\"):\n",
    "    Sudan_genome = str(record.seq)\n",
    "\n",
    "#       reading Reston genome data from the fasta files\n",
    "for record in SeqIO.parse(\"fastaData/Reston_genome.fasta\", \"fasta\"):\n",
    "    Reston_genome = str(record.seq)\n",
    "\n",
    "#       reading TaiForest genome data from the fasta files\n",
    "for record in SeqIO.parse(\"fastaData/TaiForest_genome.fasta\", \"fasta\"):\n",
    "    TaiForest_genome = str(record.seq)\n",
    "\n",
    "#       reading Bundibugyo genome data from the fasta files\n",
    "for record in SeqIO.parse(\"fastaData/Bundibugyo_genome.fasta\", \"fasta\"):\n",
    "    Bundibugyo_genome = str(record.seq)"
   ]
  },
  {
   "cell_type": "markdown",
   "metadata": {},
   "source": [
    "<div style=\"direction:rtl;line-height:300%;\">\n",
    "در ادامه جایگاه هرکدام از ژنها را در هر ویروس به دست آوردم. برای این کار به این نحو عمل کردم: ابتدا یک محدوده احتمالی برای ژن در نظر گرفتم و سپس این محدوده از ژنوم را با ژن مورد نظر هم ترازی محلی کردم. نتیجه حاصل از هم ترازی محلی لیستی از هم ترازی هاست که اولین آنها بیشترین امتیاز را داشته است که من نیز از همان استفاده کردم. هر هم ترازی خروجی خودلیستی از این موارد است:\n",
    "</div>\n",
    "\n",
    "- alignment[0]\n",
    " - alignment[0][0] ----> first sequence after alignment\n",
    " - alignment[0][1] ----> second sequence after alignment\n",
    " - alignment[0][2] ----> score\n",
    " - alignment[0][3] ----> start point of alignment on the first seq\n",
    " - alignment[0][4] ----> end point of alignment on the first seq\n",
    " \n",
    "<div style=\"direction:rtl;line-height:300%;\">\n",
    "    برای مشخص کردن جایگاه ژن نیاز به مورد چهارم و پنجم این لیست داریم. شروع ژن روی ژنوم برابر است با مجموع نقطه شروع خروجی داده شده با ابتدای محدوده جست و جو. محاسبه نقطه انتهایی کمی پیچیده تر است. زیرا نقطه پایانی که هم ترازی خروجی میدهد روی رشته اول پس از هم ترازی است. طول این رشته به دلیل قرار گرفتن - ها در محدوده ی هم ترازی بلند تر از رشته اصلی است. پس برای به دست آوردن نقطه انتهای جایگاه ژن باید طول بازه بعد از محدوده هم ترازی روی رشته اول را از انتهای محدوده جست و جو کم کنیم.\n",
    "</div>\n",
    "\n",
    "<div style=\"direction:rtl;line-height:300%;\">\n",
    "    در زیر محاسبه جایگاه ژن اول روی ویروس اول آمده است. طول بازه حدود ۲برابر طول این ژن درنظر گرفته شده و ابتدا و انتهای بازه جهت استفاده در تعیین محدوده جست و جوی بعدی چاپ میشود. همچنین ژن یافت شده روی فایل نوشته میشود تا در بخش های بعدی پروژه استفاده شود.  \n",
    "</div>"
   ]
  },
  {
   "cell_type": "code",
   "execution_count": null,
   "metadata": {},
   "outputs": [],
   "source": [
    "#           finding the first gene in the genomes : NP\n",
    "\n",
    "#       local alignment to find the gene, interval: 0-4000 (about 2 times of gene's length)\n",
    "alignments = pairwise2.align.localms(Zaire_genome[0:4000], Marburg_Genes[0], 1, -1, -1, -1)\n",
    "start = alignments[0][3]   # the start point of genes location\n",
    "end = 4000 - len(alignments[0][0][alignments[0][4]:]) # the end point\n",
    "zaire1 = Zaire_genome[start:end]  # substring of genome that the gene is located in it\n",
    "with open(\"genes/zairNP.txt\", \"w\") as text_file:\n",
    "    text_file.write(zaire1)    # writing the gene to a file\n",
    "# printing the start and end points to be used for next interval specifications\n",
    "print(str(alignments[0][3]) + \"  \" + str(4000 - len(alignments[0][0][alignments[0][4]:])))"
   ]
  },
  {
   "cell_type": "markdown",
   "metadata": {},
   "source": [
    "<div style=\"direction:rtl;line-height:300%;\">\n",
    "به همین ترتیب برای باقی ژنها همین کار را با محدوده جست و جوی به دست آمده از ژن قبلی و طول ژن فعلی تکرار کردم تا جایگاه آنها پیدا شود. برای جلوگیری از شلوغ شدن گزارش و مشابه بودن این روند بقیه را اینجا نمی آورم. در فایل پایتون مربوط به این بخش می توانید باقی عملیات را مشاهده نمایید.\n",
    "</div>"
   ]
  },
  {
   "cell_type": "markdown",
   "metadata": {},
   "source": [
    "<div style=\"direction:rtl;line-height:300%;\">\n",
    "برای ژن هفتم به دلیل طول زیاد آن با مشکل مواجه شدم. انجام همترازی محلی برای این ژن باعث می شد لپ تاپم هنگ کند و مجبور به ری استارت شوم. در نتیجه تصمیم گرفتم این ژن را به سه بخش تقسیم کنم و بعد جایگاه هر بخش را به دست بیاورم. از آنجا که تنها ابتدا و انتها برای به دست آورن جایگاه کافی است برای به دست آوردن ابتدای جایگاه بخش اول ژن و برای انتها بخش سوم را هم تراز کردم. همچنین برای هر ژن این را امتحان کردم که بخش دوم موجود باشد تا احیانا دچار خطا نشوم که مشکلی نبود.\n",
    "</div>\n",
    "<div style=\"direction:rtl;line-height:300%;\">\n",
    "این بخش از کد برای ویروس اول در ادامه آمده است: (برای جلوگیری از شلوغ شدن گزارش باقی ویروسها رانیاوردم.)\n",
    "</div>"
   ]
  },
  {
   "cell_type": "code",
   "execution_count": null,
   "metadata": {},
   "outputs": [],
   "source": [
    "#           finding the seventh gene in the genomes : L\n",
    "\n",
    "#       local alignment to find the gene, interval: 11000-15000 (11000: a little bit less than end\n",
    "#                                                              points found in previuse gene)\n",
    "\n",
    "alignments = pairwise2.align.localms(Zaire_genome[11000:15000], Marburg_Genes[6][0:2500], 1, -1, -1, -1)\n",
    "alignments1 = pairwise2.align.localms(Zaire_genome[15000:], Marburg_Genes[6][5000:], 1, -1, -1, -1)\n",
    "start = alignments[0][3] + 11000\n",
    "end = len(Zaire_genome) - len(alignments1[0][0][alignments1[0][4]:])\n",
    "zaire7 = Zaire_genome[start:end]\n",
    "with open(\"genes/zairL.txt\", \"w\") as text_file:\n",
    "    text_file.write(zaire7)\n",
    "print(str(alignments[0][3] + 11000) + \"  \" + str(len(Zaire_genome) - len(alignments1[0][0][alignments1[0][4]:])))\n"
   ]
  },
  {
   "cell_type": "markdown",
   "metadata": {},
   "source": [
    "<h6 style=\"direction:rtl;line-height:300%; color:red; font-size:170%\">\n",
    "چالش ها\n",
    "</h6>\n",
    "<div style=\"direction:rtl;line-height:300%;\">\n",
    "چالش هایی که در این بخش با آنها مواجه شدم به شرح زیر است:\n",
    "</div>\n",
    "<div style=\"direction:rtl;line-height:300%;\">\n",
    "اول: ابتدا همترازی سراسری انجام میدادم که باعث میشد ژن را با کل محدوده جست و جو هم تراز نماید. برای حل این مشکل از هم ترازی محلی استفاده کردم و برای حل مشکل کند بودن این هم ترازی بازه جست و جو را محدود کردم.</div>\n",
    "<div style=\"direction:rtl;line-height:300%;\">\n",
    "دوم: ابتدا برای به دست آوردن جایگاه ژن از ابتدا و انتهایی که هم ترازی خروجی میداد استفاده میکردم که متوجه شدم به علت اضافه شدن - ها به رشته روی ژنوم اصلی قابل استفاده نیست. از همین رو طول دُم های ابتدا و انتهای رشته تراز شده را از محدوده جست و جو کم کردم تا جایگاه ژن به دست آمد.  \n",
    "</div>\n",
    "<div style=\"direction:rtl;line-height:300%;\">\n",
    "سوم: فاصله از انتهای جایگاه ژن قبلی را کم گذاشته بودم و برخی ژنها که با هم تداخل بیشتر از ۲۰۰ نوکلئوتید داشتند دقیق به دست نمی آمدند. با افزایش این میزان مشکل حل شد. \n",
    "</div>\n",
    "<div style=\"direction:rtl;line-height:300%;\">\n",
    " چهارم: ژن آخر به دلیل طولانی بودن مشکل ایجاد میکرد که راه حل آن قبل تر توضیح داده شد.\n",
    "</div>"
   ]
  },
  {
   "cell_type": "markdown",
   "metadata": {},
   "source": [
    "<h1 style=\"direction:rtl;line-height:300%; color:green; font-size:200%\">\n",
    "بخش ۲.۳: هم ترازی ژن ها و به دست آوردن ماتریس فاصله\n",
    "</h1>"
   ]
  },
  {
   "cell_type": "markdown",
   "metadata": {},
   "source": [
    "<div style=\"direction:rtl;line-height:300%;\">\n",
    "    برای این بخش ابتدا ژن اول پیدا شده برای ویروس ها که در بخش قبل روی فایل ریخته شد را خواندم.\n",
    "</div>"
   ]
  },
  {
   "cell_type": "code",
   "execution_count": null,
   "metadata": {},
   "outputs": [],
   "source": [
    "import numpy as np\n",
    "from Bio import pairwise2\n",
    "\n",
    "#       reading NP genes of viruses from the file written in GenesFinding\n",
    "\n",
    "text_file = open(\"genes/zairNP.txt\", \"r\")\n",
    "zaire1 = text_file.read()\n",
    "\n",
    "text_file = open(\"genes/sudanNP.txt\", \"r\")\n",
    "sudan1 = text_file.read()\n",
    "\n",
    "text_file = open(\"genes/restonNP.txt\", \"r\")\n",
    "reston1 = text_file.read()\n",
    "\n",
    "text_file = open(\"genes/taiForestNP.txt\", \"r\")\n",
    "taiForest1 = text_file.read()\n",
    "\n",
    "text_file = open(\"genes/bundibugyoNP.txt\", \"r\")\n",
    "bundibugyo1 = text_file.read()"
   ]
  },
  {
   "cell_type": "markdown",
   "metadata": {},
   "source": [
    "<div style=\"direction:rtl;line-height:300%;\">\n",
    "سپس بین دو به دوی ویروس ها این ژنشان را هم تراز کردم. برای این کار از هم ترازی سراسری استفاده کردم که طبق داکیومنتیشن بایوپایتون از الگوریتم نیدلمن وونش استفاده میکند. از آنجا که فاصله ویرایش را برای هر جفت ویروس لازم داشتیم امتیاز مپ را صفر و بقیه هزینه ها را منفی یک گذاشتم. در انتها امتیاز حاصل را قرینه کردم تا به عنوان فاصله استفاده کنم. \n",
    "</div>"
   ]
  },
  {
   "cell_type": "code",
   "execution_count": null,
   "metadata": {},
   "outputs": [],
   "source": [
    "#           global alignment between NP genes of all 5 viruses, match scre = zero to\n",
    "#           find the edit distance (the score is multiplied by -1 at the end)\n",
    "\n",
    "a = pairwise2.align.globalms(zaire1, sudan1, 0, -1, -1, -1)\n",
    "zaire_sudan1 = a[0][2] * -1\n",
    "a = pairwise2.align.globalms(zaire1, reston1, 0, -1, -1, -1)\n",
    "zaire_restone1 = a[0][2] * -1\n",
    "a = pairwise2.align.globalms(zaire1, taiForest1, 0, -1, -1, -1)\n",
    "zaire_taiforest1 = a[0][2] * -1\n",
    "a = pairwise2.align.globalms(zaire1, bundibugyo1, 0, -1, -1, -1)\n",
    "zaire_bundibugyo1 = a[0][2] * -1\n",
    "\n",
    "a = pairwise2.align.globalms(sudan1, reston1, 0, -1, -1, -1)\n",
    "sudan_restone1 = a[0][2] * -1\n",
    "a = pairwise2.align.globalms(sudan1, taiForest1, 0, -1, -1, -1)\n",
    "sudan_taiforest1 = a[0][2] * -1\n",
    "a = pairwise2.align.globalms(sudan1, bundibugyo1, 0, -1, -1, -1)\n",
    "sudan_bundibugyo1 = a[0][2] * -1\n",
    "\n",
    "a = pairwise2.align.globalms(reston1, taiForest1, 0, -1, -1, -1)\n",
    "reston_taiforest1 = a[0][2] * -1\n",
    "a = pairwise2.align.globalms(reston1, bundibugyo1, 0, -1, -1, -1)\n",
    "reston_bundibugyo1 = a[0][2] * -1\n",
    "\n",
    "a = pairwise2.align.globalms(taiForest1, bundibugyo1, 0, -1, -1, -1)\n",
    "taiForest_bundibugyo1 = a[0][2] * -1"
   ]
  },
  {
   "cell_type": "markdown",
   "metadata": {},
   "source": [
    "<div style=\"direction:rtl;line-height:300%;\">\n",
    "همین کارها را برای باقی ژن ها تکرار کردم که همانطور که قبلا گفتم به علت مشابه بودن و جلوگیری از شلوغ شدن گزارش آنها را نمی آورم.\n",
    "</div>"
   ]
  },
  {
   "cell_type": "markdown",
   "metadata": {},
   "source": [
    "\n",
    "<div style=\"direction:rtl;line-height:300%;\">\n",
    "بعد از اینکه فاصله ویرایش بین دوبه دو ویروس ها برای هر ژن به دست آمد این فواصل را برای هر ژن در یک ماتریس ریختم و سپس آن ماتریس را در یک فایل سی اس وی به نام همان ژن ریختم. برای نمونه کد ساختن ماتریس ژن ول را می آورم و بقیه مشابه همین هستند:\n",
    "</div>"
   ]
  },
  {
   "cell_type": "code",
   "execution_count": null,
   "metadata": {},
   "outputs": [],
   "source": [
    "#           building the NP distance matrix from the calculated distances\n",
    "\n",
    "matrix1 = np.asarray([[0, zaire_sudan1, zaire_restone1, zaire_taiforest1, zaire_bundibugyo1], # zaire\n",
    "                      [zaire_sudan1, 0, sudan_restone1, sudan_taiforest1, sudan_bundibugyo1], # sudan\n",
    "                      [zaire_restone1, sudan_restone1, 0, reston_taiforest1, reston_bundibugyo1], # reston\n",
    "                      [zaire_taiforest1, sudan_taiforest1, reston_taiforest1, 0, taiForest_bundibugyo1], # tiforest\n",
    "                      [zaire_bundibugyo1, sudan_bundibugyo1, reston_bundibugyo1, taiForest_bundibugyo1, 0]  # bundibugyo\n",
    "                     ])\n",
    "#           writing the matrix to a csv file\n",
    "np.savetxt(\"csv/NP.csv\", matrix1, delimiter=\",\")\n",
    "\n"
   ]
  },
  {
   "cell_type": "markdown",
   "metadata": {},
   "source": [
    "<h6 style=\"direction:rtl;line-height:300%; color:red; font-size:170%\">\n",
    "چالش ها\n",
    "</h6>\n",
    "<div style=\"direction:rtl;line-height:300%;\">\n",
    "چالش هایی که در این بخش با آن ها مواجه شدم به شرح زیر است:\n",
    "</div>\n",
    "<div style=\"direction:rtl;line-height:300%;\">\n",
    "اول: ابتدا امتیاز مچ را صفر نگذاشته بودم و اشتباها امتیاز هم ترازی را به عنوان فاصله قرار میدادم که در بخش بعد برای ساخت درخت ها سبب اشتباه میشد. \n",
    "</div>"
   ]
  },
  {
   "cell_type": "markdown",
   "metadata": {},
   "source": [
    "<h1 style=\"direction:rtl;line-height:300%; color:green; font-size:200%\">\n",
    "بخش ۳.۱: تشکیل درخت زندگی برای هر ژن\n",
    "</h1>"
   ]
  },
  {
   "cell_type": "markdown",
   "metadata": {},
   "source": [
    "<div style=\"direction:rtl;line-height:300%;\">\n",
    "برای این بخش ابتدا فایل ماتریس هایی که در بخش قبلی ذخیره کردم را باز کردم:\n",
    "</div>"
   ]
  },
  {
   "cell_type": "code",
   "execution_count": null,
   "metadata": {},
   "outputs": [],
   "source": [
    "import csv\n",
    "\n",
    "from Bio import Phylo\n",
    "from Bio.Phylo.Consensus import adam_consensus, strict_consensus, majority_consensus\n",
    "from Bio.Phylo.TreeConstruction import DistanceMatrix, DistanceTreeConstructor\n",
    "\n",
    "constructor = DistanceTreeConstructor()\n",
    "\n",
    "#    reading the csv files of Genes\n",
    "\n",
    "NP = open('csv/NP.csv', \"rt\", encoding=\"utf8\")\n",
    "VP35 = open('csv/VP35.csv', \"rt\", encoding=\"utf8\")\n",
    "VP40 = open('csv/VP40.csv', \"rt\", encoding=\"utf8\")\n",
    "GP = open('csv/GP.csv', \"rt\", encoding=\"utf8\")\n",
    "VP30 = open('csv/VP30.csv', \"rt\", encoding=\"utf8\")\n",
    "VP24 = open('csv/VP24.csv', \"rt\", encoding=\"utf8\")\n",
    "L = open('csv/L.csv', \"rt\", encoding=\"utf8\")\n"
   ]
  },
  {
   "cell_type": "markdown",
   "metadata": {},
   "source": [
    "<div style=\"direction:rtl;line-height:300%;\">\n",
    "یک لیست از اسم ویروس ها به ترتیب قرارگیری در ماتریس های فواصل ساختم تا در ادامه برای ساهت درخت ها استفاده کنم:\n",
    "</div>"
   ]
  },
  {
   "cell_type": "code",
   "execution_count": null,
   "metadata": {},
   "outputs": [],
   "source": [
    "#    names to be displayed in on the trees\n",
    "\n",
    "names = ['Zaire', 'Sudan', 'Reston', 'TaiForest', 'Bundibugyo']"
   ]
  },
  {
   "cell_type": "markdown",
   "metadata": {},
   "source": [
    "<div style=\"direction:rtl;line-height:300%;\">\n",
    "از آنجا که برای ساخت درخت در بایوپایتون علاوه بر نام ویروس ها نیاز به یک ماتریس پایین مثلثی فواصل داریم این ماتریس را از فایل آن خواندم\n",
    "</div>"
   ]
  },
  {
   "cell_type": "code",
   "execution_count": null,
   "metadata": {},
   "outputs": [],
   "source": [
    "read = csv.reader(NP)\n",
    "n = 0\n",
    "matrixNP = []\n",
    "#    filling the matrix of distances of NP gene\n",
    "for row in read:\n",
    "     sub = []\n",
    "     for i in range(n):\n",
    "          sub.append(float(row[i]))\n",
    "     sub.append(0.0)\n",
    "     matrixNP.append(sub)\n",
    "     n += 1     # the matrix has to be lower triangular\n",
    "dm = DistanceMatrix(names=names, matrix=matrixNP)"
   ]
  },
  {
   "cell_type": "markdown",
   "metadata": {},
   "source": [
    "<div style=\"direction:rtl;line-height:300%;\">\n",
    "در آخر ماتریس فواصل ساخته شده با نام و فاصله ها را به کانستراکتور درخت با هر دو الگوریتم دادم و درخت را کشیدم:\n",
    "</div>"
   ]
  },
  {
   "cell_type": "markdown",
   "metadata": {},
   "source": [
    "NJtreeNP = constructor.nj(dm)\n",
    "UPGMAtreeNP = constructor.upgma(dm)\n",
    "\n",
    "NJtreeNP.ladderize()   # Flip branches so deeper clades are displayed at top\n",
    "Phylo.draw(NJtreeNP)\n",
    "\n",
    "UPGMAtreeNP.ladderize()   # Flip branches so deeper clades are displayed at top\n",
    "Phylo.draw(UPGMAtreeNP)\n"
   ]
  },
  {
   "cell_type": "markdown",
   "metadata": {},
   "source": [
    "<div style=\"direction:rtl;line-height:300%;\">\n",
    "برای باقی ژن ها نیز همین کار را تکرار کردم که به دلیل تشابه دیگر نمی آورم. توضیحات راجع به این الگوریتم ها در گزارش تئوری آمده است.\n",
    "</div>"
   ]
  },
  {
   "cell_type": "markdown",
   "metadata": {},
   "source": [
    "<div style=\"direction:rtl;line-height:300%;\">\n",
    "در ادامه درخت هایی که برای هر ژن کشیده شد به تفکیک الگوریتم می آید.\n",
    "</div>"
   ]
  },
  {
   "cell_type": "markdown",
   "metadata": {},
   "source": [
    "<figure style=\"text-align:center;\">\n",
    "  <img src=\"TREES/NJ_NP.png\">\n",
    "  <figcaption style=\"color:blue;\">figure 1: NP gene tree, using Neighbour joining algorithm.</figcaption>\n",
    "</figure>"
   ]
  },
  {
   "cell_type": "markdown",
   "metadata": {},
   "source": [
    "<figure style=\"text-align:center;\">\n",
    "  <img src=\"TREES/UPGMA_NP.png\">\n",
    "  <figcaption style=\"color:blue;\">figure 2: NP gene tree, using UPGMA algorithm.</figcaption>\n",
    "</figure>"
   ]
  },
  {
   "cell_type": "markdown",
   "metadata": {},
   "source": [
    "<figure style=\"text-align:center;\">\n",
    "  <img src=\"TREES/NJ_VP35.png\">\n",
    "  <figcaption style=\"color:blue;\">figure 3: VP35 gene tree, using Neighbour joining algorithm.</figcaption>\n",
    "</figure>"
   ]
  },
  {
   "cell_type": "markdown",
   "metadata": {},
   "source": [
    "<figure style=\"text-align:center;\">\n",
    "  <img src=\"TREES/UPGMA_VP35.png\">\n",
    "  <figcaption style=\"color:blue;\">figure 4: VP35 gene tree, using UPGMA algorithm.</figcaption>\n",
    "</figure>"
   ]
  },
  {
   "cell_type": "markdown",
   "metadata": {},
   "source": [
    "<figure style=\"text-align:center;\">\n",
    "  <img src=\"TREES/NJ_VP40.png\">\n",
    "  <figcaption style=\"color:blue;\">figure 5: VP40 gene tree, using Neighbour joining algorithm.</figcaption>\n",
    "</figure>"
   ]
  },
  {
   "cell_type": "markdown",
   "metadata": {},
   "source": [
    "<figure style=\"text-align:center;\">\n",
    "  <img src=\"TREES/UPGMA_VP40.png\">\n",
    "  <figcaption style=\"color:blue;\">figure 6: VP40 gene tree, using UPGMA algorithm.</figcaption>\n",
    "</figure>"
   ]
  },
  {
   "cell_type": "markdown",
   "metadata": {},
   "source": [
    "<figure style=\"text-align:center;\">\n",
    "  <img src=\"TREES/NJ_GP.png\">\n",
    "  <figcaption style=\"color:blue;\">figure 7: GP gene tree, using Neighbour joining algorithm.</figcaption>\n",
    "</figure>"
   ]
  },
  {
   "cell_type": "markdown",
   "metadata": {},
   "source": [
    "<figure style=\"text-align:center;\">\n",
    "  <img src=\"TREES/UPGMA_GP.png\">\n",
    "  <figcaption style=\"color:blue;\">figure 8: GP gene tree, using UPGMA algorithm.</figcaption>\n",
    "</figure>"
   ]
  },
  {
   "cell_type": "markdown",
   "metadata": {},
   "source": [
    "<figure style=\"text-align:center;\">\n",
    "  <img src=\"TREES/NJ_VP30.png\">\n",
    "  <figcaption style=\"color:blue;\">figure 9: VP30 gene tree, using Neighbour joining algorithm.</figcaption>\n",
    "</figure>"
   ]
  },
  {
   "cell_type": "markdown",
   "metadata": {},
   "source": [
    "<figure style=\"text-align:center;\">\n",
    "  <img src=\"TREES/UPGMA_VP30.png\">\n",
    "  <figcaption style=\"color:blue;\">figure 10: VP30 gene tree, using UPGMA algorithm.</figcaption>\n",
    "</figure>"
   ]
  },
  {
   "cell_type": "markdown",
   "metadata": {},
   "source": [
    "<figure style=\"text-align:center;\">\n",
    "  <img src=\"TREES/NJ_VP24.png\">\n",
    "  <figcaption style=\"color:blue;\">figure 11: VP24 gene tree, using Neighbour joining algorithm.</figcaption>\n",
    "</figure>"
   ]
  },
  {
   "cell_type": "markdown",
   "metadata": {},
   "source": [
    "<figure style=\"text-align:center;\">\n",
    "  <img src=\"TREES/UPGMA_VP24.png\">\n",
    "  <figcaption style=\"color:blue;\">figure 12: VP24 gene tree, using UPGMA algorithm.</figcaption>\n",
    "</figure>"
   ]
  },
  {
   "cell_type": "markdown",
   "metadata": {},
   "source": [
    "<figure style=\"text-align:center;\">\n",
    "  <img src=\"TREES/NJ_L.png\">\n",
    "  <figcaption style=\"color:blue;\">figure 13: L gene tree, using Neighbour joining algorithm.</figcaption>\n",
    "</figure>"
   ]
  },
  {
   "cell_type": "markdown",
   "metadata": {},
   "source": [
    "<figure style=\"text-align:center;\">\n",
    "  <img src=\"TREES/UPGMA_L.png\">\n",
    "  <figcaption style=\"color:blue;\">figure 14: L gene tree, using UPGMA algorithm.</figcaption>\n",
    "</figure>"
   ]
  },
  {
   "cell_type": "markdown",
   "metadata": {},
   "source": [
    "<h1 style=\"direction:rtl;line-height:300%; color:green; font-size:200%\">\n",
    "بخش ۳.۲: ترکیب درخت ها و ارائه درخت نهایی\n",
    "</h1>"
   ]
  },
  {
   "cell_type": "markdown",
   "metadata": {},
   "source": [
    "<div style=\"direction:rtl;line-height:300%;\">\n",
    "در این بخش درخت های به دست آمده از بخش قبل را در یک لیست قرار دادم و باهم ترکیب کردم. توضیحات درباره روش انتخابی و علت آن در گزارش تئوری آمده است.\n",
    "</div>"
   ]
  },
  {
   "cell_type": "code",
   "execution_count": null,
   "metadata": {},
   "outputs": [],
   "source": [
    "#    list the trees built by NJ algorithm\n",
    "treesNJ = [NJtreeVP35, NJtreeGP, NJtreeL, NJtreeNP, NJtreeVP24, NJtreeVP30, NJtreeVP40]\n",
    "#    list the trees built by UPGMA algorithm\n",
    "treesUPGMA = [UPGMAtreeVP35, UPGMAtreeGP, UPGMAtreeL, UPGMAtreeNP, UPGMAtreeVP24, UPGMAtreeVP30, UPGMAtreeVP40]\n",
    "\n",
    "#    build the consensus trees\n",
    "consensusUPGMA = majority_consensus(treesUPGMA, cutoff=0)\n",
    "consensusNJ = majority_consensus(treesNJ, cutoff=0)\n",
    "\n",
    "Phylo.draw(consensusNJ)\n",
    "Phylo.draw(consensusUPGMA)\n"
   ]
  },
  {
   "cell_type": "markdown",
   "metadata": {},
   "source": [
    "<div style=\"direction:rtl;line-height:300%;\">\n",
    "درخت های ترکیبی حاصل به این صورت شدند:\n",
    "</div>"
   ]
  },
  {
   "cell_type": "markdown",
   "metadata": {},
   "source": [
    "<figure style=\"text-align:center;\">\n",
    "  <img src=\"TREES/NJ_Consensus.png\">\n",
    "  <figcaption style=\"color:blue;\">figure 15: Consensus tree, using Neighbour Joining algorithm.</figcaption>\n",
    "</figure>"
   ]
  },
  {
   "cell_type": "markdown",
   "metadata": {},
   "source": [
    "<figure style=\"text-align:center;\">\n",
    "  <img src=\"TREES/UPGMA_Consensus.png\">\n",
    "  <figcaption style=\"color:blue;\">figure 16: Consensus tree, using UPGMA algorithm.</figcaption>\n",
    "</figure>"
   ]
  },
  {
   "cell_type": "markdown",
   "metadata": {},
   "source": [
    "<h1 style=\"direction:rtl;line-height:300%; color:green; font-size:180%\">\n",
    "بخش ۳.۳: مقایسه درخت ترکیبی و درخت حاصل از همترازی سراسری\n",
    "</h1>"
   ]
  },
  {
   "cell_type": "markdown",
   "metadata": {},
   "source": [
    "<div style=\"direction:rtl;line-height:300%;\">\n",
    "در این بخش فاصله دو به دو کل ژنوم هر ویروس را به دست آوردم. باتوجه به محدودیت منابع پردازشی و راهنمایی سوال از پکیجی که هم ترازی را با استفاده از الگوریتم Myers bit vector انجام می دهد استفاده کردم. ابتدا ژنوم هر کدام از ویروس ها را از روی فایل آن خواندم.\n",
    "</div>"
   ]
  },
  {
   "cell_type": "code",
   "execution_count": null,
   "metadata": {},
   "outputs": [],
   "source": [
    "import numpy as np\n",
    "from Bio import SeqIO\n",
    "import edlib\n",
    "\n",
    "#       reading genomes from fasta files\n",
    "\n",
    "for record in SeqIO.parse(\"fastaData/Zaire_genome.fasta\", \"fasta\"):\n",
    "    Zaire_genome = str(record.seq)\n",
    "    print(str(record.seq).__len__())\n",
    "\n",
    "for record in SeqIO.parse(\"fastaData/Sudan_genome.fasta\", \"fasta\"):\n",
    "    Sudan_genome = str(record.seq)\n",
    "    print(str(record.seq).__len__())\n",
    "\n",
    "for record in SeqIO.parse(\"fastaData/Reston_genome.fasta\", \"fasta\"):\n",
    "    Reston_genome = str(record.seq)\n",
    "    print(str(record.seq).__len__())\n",
    "\n",
    "for record in SeqIO.parse(\"fastaData/TaiForest_genome.fasta\", \"fasta\"):\n",
    "    TaiForest_genome = str(record.seq)\n",
    "    print(str(record.seq).__len__())\n",
    "\n",
    "for record in SeqIO.parse(\"fastaData/Bundibugyo_genome.fasta\", \"fasta\"):\n",
    "    Bundibugyo_genome = str(record.seq)\n",
    "    print(str(record.seq).__len__())"
   ]
  },
  {
   "cell_type": "markdown",
   "metadata": {},
   "source": [
    "<div style=\"direction:rtl;line-height:300%;\">\n",
    "فاصله دوبه دو ویروس ها را به دست آوردم:\n",
    "</div>"
   ]
  },
  {
   "cell_type": "code",
   "execution_count": null,
   "metadata": {},
   "outputs": [],
   "source": [
    "a = edlib.align(Zaire_genome, Sudan_genome)\n",
    "zaire_sudan = a[\"editDistance\"]\n",
    "a = edlib.align(Zaire_genome, Reston_genome)\n",
    "zaire_restone = a[\"editDistance\"]\n",
    "a = edlib.align(Zaire_genome, TaiForest_genome)\n",
    "zaire_taiforest = a[\"editDistance\"]\n",
    "a = edlib.align(Zaire_genome, Bundibugyo_genome)\n",
    "zaire_bundibugyo = a[\"editDistance\"]\n",
    "\n",
    "a = edlib.align(Sudan_genome, Reston_genome)\n",
    "sudan_restone = a[\"editDistance\"]\n",
    "a = edlib.align(Sudan_genome, TaiForest_genome)\n",
    "sudan_taiforest = a[\"editDistance\"]\n",
    "a = edlib.align(Sudan_genome, Bundibugyo_genome)\n",
    "sudan_bundibugyo = a[\"editDistance\"]\n",
    "\n",
    "a = edlib.align(Reston_genome, TaiForest_genome)\n",
    "reston_taiforest = a[\"editDistance\"]\n",
    "a = edlib.align(Reston_genome, Bundibugyo_genome)\n",
    "reston_bundibugyo = a[\"editDistance\"]\n",
    "\n",
    "a = edlib.align(TaiForest_genome, Bundibugyo_genome)\n",
    "taiForest_bundibugyo = a[\"editDistance\"]"
   ]
  },
  {
   "cell_type": "markdown",
   "metadata": {},
   "source": [
    "<div style=\"direction:rtl;line-height:300%;\">\n",
    "در انتها با فواصل به دست آمده ماتریس فواصل را ساخته و روی فایل ریختم:\n",
    "</div>"
   ]
  },
  {
   "cell_type": "code",
   "execution_count": null,
   "metadata": {},
   "outputs": [],
   "source": [
    "#   fill the distance matrix\n",
    "matrix = np.asarray([[0, zaire_sudan, zaire_restone, zaire_taiforest, zaire_bundibugyo], # zaire\n",
    "                      [zaire_sudan, 0, sudan_restone, sudan_taiforest, sudan_bundibugyo], # sudan\n",
    "                      [zaire_restone, sudan_restone, 0, reston_taiforest, reston_bundibugyo], # reston\n",
    "                      [zaire_taiforest, sudan_taiforest, reston_taiforest, 0, taiForest_bundibugyo], # tiforest\n",
    "                      [zaire_bundibugyo, sudan_bundibugyo, reston_bundibugyo, taiForest_bundibugyo, 0]  # bundibugyo\n",
    "                     ])\n",
    "#   write the matrix to a csv file\n",
    "np.savetxt(\"csv/Global.csv\", matrix, delimiter=\",\")"
   ]
  },
  {
   "cell_type": "markdown",
   "metadata": {},
   "source": [
    "<div style=\"direction:rtl;line-height:300%;\">\n",
    "در ادامه مشابه قسمت های قبلی درخت نهایی را از روی ماتریس فواصل کشیدم. از الگوریتم NJ استفاده کردم که در گزارش تئوری دلیل آن توضیح داده شده است.\n",
    "</div>"
   ]
  },
  {
   "cell_type": "code",
   "execution_count": null,
   "metadata": {},
   "outputs": [],
   "source": [
    "import csv\n",
    "\n",
    "from Bio import Phylo\n",
    "from Bio.Phylo.Consensus import adam_consensus, strict_consensus, majority_consensus\n",
    "from Bio.Phylo.TreeConstruction import DistanceMatrix, DistanceTreeConstructor\n",
    "\n",
    "constructor = DistanceTreeConstructor()\n",
    "\n",
    "# reading the csv file of distance matrix\n",
    "\n",
    "Global = open('csv/Global.csv', \"rt\", encoding=\"utf8\")\n",
    "\n",
    "# names to be displayed in on the tree\n",
    "\n",
    "names = ['Zaire', 'Sudan', 'Reston', 'TaiForest', 'Bundibugyo']\n",
    "\n",
    "read = csv.reader(Global)\n",
    "n = 0\n",
    "matrix = []\n",
    "# filling the matrix of distances\n",
    "for row in read:\n",
    "     sub = []\n",
    "     for i in range(n):\n",
    "          sub.append(float(row[i]))\n",
    "     sub.append(0.0)\n",
    "     matrix.append(sub)\n",
    "     n += 1     # the matrix has to be lower triangular\n",
    "dm = DistanceMatrix(names=names, matrix=matrix)\n",
    "\n",
    "NJtreeNP = constructor.nj(dm)\n",
    "\n",
    "NJtreeNP.ladderize()   # Flip branches so deeper clades are displayed at top\n",
    "Phylo.draw(NJtreeNP)"
   ]
  },
  {
   "cell_type": "markdown",
   "metadata": {},
   "source": [
    "<div style=\"direction:rtl;line-height:300%;\">\n",
    "نمودار حاصل به این صورت شد: (مقایسه با نمودار بخش قبل در گزارش تئوری آمده است.)\n",
    "</div>"
   ]
  },
  {
   "cell_type": "markdown",
   "metadata": {},
   "source": [
    "<figure style=\"text-align:center;\">\n",
    "  <img src=\"TREES/NJ_Global.png\">\n",
    "  <figcaption style=\"color:blue;\">figure 17: result tree, using Neighbour joining algorithm on the global alignment distance matrix.</figcaption>\n",
    "</figure>"
   ]
  },
  {
   "cell_type": "markdown",
   "metadata": {},
   "source": [
    "<h1 style=\"direction:rtl;line-height:300%; color:green; font-size:180%\">\n",
    "بخش ۳.۴: تعیین نقطه شروع\n",
    "</h1>"
   ]
  },
  {
   "cell_type": "markdown",
   "metadata": {},
   "source": [
    "<div style=\"direction:rtl;line-height:300%;\">\n",
    "این بخش کاملا مشابه بخش قبلی است با این تفاوت که ویروس ماربرگ را هم باید اضافه کنیم. از این رو کد ان را نمی آورم تا از اطناب کزارش جلوگیری شود. با این حال کد مربوط به این بخش در فایل های پروژه قابل دسترس است. درخت نهایی را با الگوریتم NJ کشیدم که دلیل انتخاب در گزارش تئوری آمده است. این درخت در زیر آمده: \n",
    "</div>"
   ]
  },
  {
   "cell_type": "markdown",
   "metadata": {},
   "source": [
    "<figure style=\"text-align:center;\">\n",
    "  <img src=\"TREES/NJ_Marburg.png\">\n",
    "  <figcaption style=\"color:blue;\">figure 18: tree, using Neighbour joining algorithm on the global alignment distance matrix, Mrburg included.</figcaption>\n",
    "</figure>"
   ]
  },
  {
   "cell_type": "markdown",
   "metadata": {},
   "source": [
    "<h1 style=\"direction:rtl;line-height:300%; color:green; font-size:180%\">\n",
    "بخش ۴.۱: چه زمانی از هم جدا شده اند؟\n",
    "</h1>"
   ]
  },
  {
   "cell_type": "markdown",
   "metadata": {},
   "source": [
    "<div style=\"direction:rtl;line-height:300%;\">\n",
    "برای محاسبه فواصل زمانی از مدل Jukes Contour استفاده کردم و باتوجه به این که در پیاتزا گفته شد می توانیم مستقیما از نتیجه آن که در جزوه بود استفاده کنیم روند اثبات را نمی آورم. نتیجه این مدل به این صورت است:\n",
    "</div>\n",
    "\n",
    "<figure style=\"text-align:center;\">\n",
    "  <img src=\"TREES/equation.png\">\n",
    "</figure>\n",
    "<div style=\"direction:rtl;line-height:300%;\">\n",
    "که در آن p حاصل تقسیم فاصله ویرایش بر طول هم ترازی و t حاصل ضرب لاندا در فاصله زمانی بین دو رشته است. پس با این اوصاف کار ساده می شود. کافی است دو به دو بین رشته ها همترازی سراسری انجام دهیم و فاصله ویرایش و طول همترازی را به دست آوریم. لاندا نیز در صورت سوال داده شده است که همان نرخ جهش در سال است. به این ترتیب با تقسیم کردن t بر لاندا فاصله زمانی برحسب سال به دست می آید.\n",
    "</div>"
   ]
  },
  {
   "cell_type": "markdown",
   "metadata": {},
   "source": [
    "<div style=\"direction:rtl;line-height:300%;\">\n",
    "برای اینکار ابتدا همه ژنوم ها را از روی فایل مربوط به آنها خواندم:\n",
    "</div>"
   ]
  },
  {
   "cell_type": "code",
   "execution_count": 9,
   "metadata": {},
   "outputs": [],
   "source": [
    "import numpy as np\n",
    "from Bio import SeqIO\n",
    "\n",
    "import edlib\n",
    "\n",
    "#       reading genomes from fasta files\n",
    "\n",
    "for record in SeqIO.parse(\"fastaData/sequence.fasta\", \"fasta\"):\n",
    "    Marburg_genome = str(record.seq)\n",
    "\n",
    "for record in SeqIO.parse(\"fastaData/Zaire_genome.fasta\", \"fasta\"):\n",
    "    Zaire_genome = str(record.seq)\n",
    "\n",
    "for record in SeqIO.parse(\"fastaData/Sudan_genome.fasta\", \"fasta\"):\n",
    "    Sudan_genome = str(record.seq)\n",
    "\n",
    "for record in SeqIO.parse(\"fastaData/Reston_genome.fasta\", \"fasta\"):\n",
    "    Reston_genome = str(record.seq)\n",
    "\n",
    "for record in SeqIO.parse(\"fastaData/TaiForest_genome.fasta\", \"fasta\"):\n",
    "    TaiForest_genome = str(record.seq)\n",
    "\n",
    "for record in SeqIO.parse(\"fastaData/Bundibugyo_genome.fasta\", \"fasta\"):\n",
    "    Bundibugyo_genome = str(record.seq)\n",
    "\n",
    "#       finding the edit distance between all pairs of viruses using global alignment\n",
    "#       edlib.align: doing the alignment by Myers bit vector algorithm"
   ]
  },
  {
   "cell_type": "markdown",
   "metadata": {},
   "source": [
    "<div style=\"direction:rtl;line-height:300%;\">\n",
    "سپس برای دو به دوی ژنوم ها هم ترازی را انجام دادم و مقدار P را برای آنها به دست آورده و ذخیره نمودم:\n",
    "</div>"
   ]
  },
  {
   "cell_type": "code",
   "execution_count": 10,
   "metadata": {},
   "outputs": [],
   "source": [
    "#       finding the P for all pairs of viruses using global alignment\n",
    "#       edlib.align: doing the alignment by Myers bit vector algorithm\n",
    "\n",
    "a = edlib.align(Zaire_genome, Sudan_genome)\n",
    "zaire_sudan = a[\"editDistance\"] / a[\"locations\"][0][1]\n",
    "a = edlib.align(Zaire_genome, Reston_genome)\n",
    "zaire_restone = a[\"editDistance\"] / a[\"locations\"][0][1]\n",
    "a = edlib.align(Zaire_genome, TaiForest_genome)\n",
    "zaire_taiforest = a[\"editDistance\"] / a[\"locations\"][0][1]\n",
    "a = edlib.align(Zaire_genome, Bundibugyo_genome)\n",
    "zaire_bundibugyo = a[\"editDistance\"] / a[\"locations\"][0][1]\n",
    "a = edlib.align(Zaire_genome, Marburg_genome)\n",
    "zaire_marburg = a[\"editDistance\"] / a[\"locations\"][0][1]\n",
    "\n",
    "a = edlib.align(Sudan_genome, Reston_genome)\n",
    "sudan_restone = a[\"editDistance\"] / a[\"locations\"][0][1]\n",
    "a = edlib.align(Sudan_genome, TaiForest_genome)\n",
    "sudan_taiforest = a[\"editDistance\"] / a[\"locations\"][0][1]\n",
    "a = edlib.align(Sudan_genome, Bundibugyo_genome)\n",
    "sudan_bundibugyo = a[\"editDistance\"] / a[\"locations\"][0][1]\n",
    "a = edlib.align(Sudan_genome, Marburg_genome)\n",
    "sudan_marburg = a[\"editDistance\"] / a[\"locations\"][0][1]\n",
    "\n",
    "a = edlib.align(Reston_genome, TaiForest_genome)\n",
    "reston_taiforest = a[\"editDistance\"] / a[\"locations\"][0][1]\n",
    "a = edlib.align(Reston_genome, Bundibugyo_genome)\n",
    "reston_bundibugyo = a[\"editDistance\"] / a[\"locations\"][0][1]\n",
    "a = edlib.align(Reston_genome, Marburg_genome)\n",
    "reston_marburg = a[\"editDistance\"] / a[\"locations\"][0][1]\n",
    "\n",
    "a = edlib.align(TaiForest_genome, Bundibugyo_genome)\n",
    "taiForest_bundibugyo = a[\"editDistance\"] / a[\"locations\"][0][1]\n",
    "a = edlib.align(TaiForest_genome, Marburg_genome)\n",
    "taiForest_marburg = a[\"editDistance\"] / a[\"locations\"][0][1]\n",
    "\n",
    "a = edlib.align(Bundibugyo_genome, Marburg_genome)\n",
    "bundibugyo_marburg = a[\"editDistance\"] / a[\"locations\"][0][1]"
   ]
  },
  {
   "cell_type": "markdown",
   "metadata": {},
   "source": [
    "<div style=\"direction:rtl;line-height:300%;\">\n",
    "حال مقادیر P به دست آمده را در عبارت گفته شده قرار دادم و نتیجه را بر ۰/۰۰۱۹ تقسیم کردم:\n",
    "</div>"
   ]
  },
  {
   "cell_type": "code",
   "execution_count": 11,
   "metadata": {},
   "outputs": [],
   "source": [
    "#       filling a matrix with calculated Ps\n",
    "\n",
    "matrix = np.asarray([[0, zaire_sudan, zaire_restone, zaire_taiforest, zaire_bundibugyo, zaire_marburg], # zaire\n",
    "                     [zaire_sudan, 0, sudan_restone, sudan_taiforest, sudan_bundibugyo, sudan_marburg], # sudan\n",
    "                     [zaire_restone, sudan_restone, 0, reston_taiforest, reston_bundibugyo, reston_marburg], # reston\n",
    "                     [zaire_taiforest, sudan_taiforest, reston_taiforest, 0, taiForest_bundibugyo, taiForest_marburg], # tiforest\n",
    "                     [zaire_bundibugyo, sudan_bundibugyo, reston_bundibugyo, taiForest_bundibugyo, 0, bundibugyo_marburg],  # bundibugyo\n",
    "                     [zaire_marburg, sudan_marburg, reston_marburg, taiForest_marburg, bundibugyo_marburg, 0]\n",
    "                     ])\n",
    "\n",
    "#       applying the Jukes Contour Model's result equation to the values of the matrix\n",
    "for i in range(6):\n",
    "    for j in range(6):\n",
    "        if i != j:\n",
    "            matrix[i][j] = ((-3.0 / 4.0) * np.log(1 - (4.0 / 3.0) * matrix[i][j]) * 1000) / 1.9"
   ]
  },
  {
   "cell_type": "markdown",
   "metadata": {},
   "source": [
    "<div style=\"direction:rtl;line-height:300%;\">\n",
    "در پایان مقادیر ماتریس که همان فاصله زمانی بین گونه هاست را چاپ کردم:\n",
    "</div>"
   ]
  },
  {
   "cell_type": "code",
   "execution_count": 15,
   "metadata": {},
   "outputs": [
    {
     "name": "stdout",
     "output_type": "stream",
     "text": [
      "Time Distance between Marburg        and      Zair :        389.245083389\n",
      "Time Distance between Marburg        and      Sudan :       389.466638217\n",
      "Time Distance between Marburg        and      Reston :      384.839902262\n",
      "Time Distance between Marburg        and      TaiForest :   393.699980767\n",
      "Time Distance between Marburg        and      Bundibugyo :  395.04631332\n",
      "Time Distance between Zair           and      Sudan :       255.2095409\n",
      "Time Distance between Zair           and      Reston :      252.627109639\n",
      "Time Distance between Zair           and      TaiForest :   226.933696748\n",
      "Time Distance between Zair           and      Bundibugyo :  228.733323483\n",
      "Time Distance between Reston         and      Sudan :       257.465022403\n",
      "Time Distance between TaiForest      and      Sudan :       257.475102594\n",
      "Time Distance between Bundibugyo     and      Sudan :       257.96643722\n",
      "Time Distance between Reston         and      Taiforest :   256.355961344\n",
      "Time Distance between Reston         and      Bundibugyo :  257.006038928\n",
      "Time Distance between Bundibugyo     and      Taiforest :   194.677242962\n",
      "\n",
      "                       **All times are in Years**\n"
     ]
    }
   ],
   "source": [
    "#       printing the results\n",
    "print(\"Time Distance between Marburg        and      Zair :       \", matrix[0][5])\n",
    "print(\"Time Distance between Marburg        and      Sudan :      \", matrix[1][5])\n",
    "print(\"Time Distance between Marburg        and      Reston :     \", matrix[2][5])\n",
    "print(\"Time Distance between Marburg        and      TaiForest :  \", matrix[3][5])\n",
    "print(\"Time Distance between Marburg        and      Bundibugyo : \", matrix[4][5])\n",
    "print(\"Time Distance between Zair           and      Sudan :      \", matrix[0][1])\n",
    "print(\"Time Distance between Zair           and      Reston :     \", matrix[0][2])\n",
    "print(\"Time Distance between Zair           and      TaiForest :  \", matrix[0][3])\n",
    "print(\"Time Distance between Zair           and      Bundibugyo : \", matrix[0][4])\n",
    "print(\"Time Distance between Reston         and      Sudan :      \", matrix[1][2])\n",
    "print(\"Time Distance between TaiForest      and      Sudan :      \", matrix[1][3])\n",
    "print(\"Time Distance between Bundibugyo     and      Sudan :      \", matrix[1][4])\n",
    "print(\"Time Distance between Reston         and      Taiforest :  \", matrix[2][3])\n",
    "print(\"Time Distance between Reston         and      Bundibugyo : \", matrix[2][4])\n",
    "print(\"Time Distance between Bundibugyo     and      Taiforest :  \", matrix[3][4])\n",
    "print(\"\\n                       **All times are in Years**\")"
   ]
  },
  {
   "cell_type": "markdown",
   "metadata": {},
   "source": [
    "<div style=\"direction:rtl;line-height:300%;\">\n",
    "حالا می خواهیم فاصله زمانی تا جد مشترک را به دست آوریم. در بخش قبل با اضافه کردن ماربرگ به گونه ها توانستیم درخت ریشه دار بسازیم که ریشه درخت همان جد مشترک گونه های ماست. در این بخش بار دیگر با الگوریتم upgma درخت ریشه دار می سازیم اما این بار به جای فاصله ویرایش از فاصله های زمانی به دست آمده در بخش قبلی استفاده میکنیم.   \n",
    "</div>"
   ]
  },
  {
   "cell_type": "code",
   "execution_count": null,
   "metadata": {},
   "outputs": [],
   "source": [
    "names = ['Zaire', 'Sudan', 'Reston', 'TaiForest', 'Bundibugyo', 'Marburg']\n",
    "\n",
    "n = 0\n",
    "matrixUPGMA = []\n",
    "#    filling the matrix of distances of NP gene\n",
    "for row in matrix:\n",
    "     sub = []\n",
    "     for i in range(n):\n",
    "          sub.append(float(row[i]))\n",
    "     sub.append(0.0)\n",
    "     matrixUPGMA.append(sub)\n",
    "     n += 1     # the matrix has to be lower triangular\n",
    "dm = DistanceMatrix(names=names, matrix=matrixUPGMA)\n",
    "constructor = DistanceTreeConstructor()\n",
    "\n",
    "tree = constructor.upgma(dm)\n",
    "Phylo.draw(tree)\n",
    "\n"
   ]
  },
  {
   "cell_type": "markdown",
   "metadata": {},
   "source": [
    "<div style=\"direction:rtl;line-height:300%;\">\n",
    "حالا که درخت ساخته شد با به دست آوردن طول یالهای بین گره های آن میتوانیم فاصله ها را تخمین بزنیم. برای اینکار متد دریافت فاصله وجود دارد. کافی است از آن استفاده کنیم. سوال از ما خواسته که جد مشترک چه زمانی می زیسته است. از آنجا که ماربرگ و گونه های ابولا اول از هم جدا شده اند کافی است فاصله ماربرگ تا ریشه را به دست آوریم. ابتدا درخت را رسم کردم تا نام ریشه را بیابم و همچنین بررسی مسئله شهودی تر شود. \n",
    "</div>\n",
    "<figure style=\"text-align:center;\">\n",
    "  <img src=\"TREES/end.png\">\n",
    "  <figcaption style=\"color:blue;\">figure 19: UPGMA tree using time distances</figcaption>\n",
    "</figure>"
   ]
  },
  {
   "cell_type": "code",
   "execution_count": null,
   "metadata": {},
   "outputs": [],
   "source": [
    "print(tree.distance(\"Inner5\", \"Marburg\"), \" years\")\n"
   ]
  }
 ],
 "metadata": {
  "kernelspec": {
   "display_name": "Python 3",
   "language": "python",
   "name": "python3"
  },
  "language_info": {
   "codemirror_mode": {
    "name": "ipython",
    "version": 3
   },
   "file_extension": ".py",
   "mimetype": "text/x-python",
   "name": "python",
   "nbconvert_exporter": "python",
   "pygments_lexer": "ipython3",
   "version": "3.5.2"
  }
 },
 "nbformat": 4,
 "nbformat_minor": 1
}
